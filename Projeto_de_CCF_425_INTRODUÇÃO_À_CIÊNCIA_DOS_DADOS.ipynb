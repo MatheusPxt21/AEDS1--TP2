{
  "nbformat": 4,
  "nbformat_minor": 0,
  "metadata": {
    "colab": {
      "provenance": [],
      "toc_visible": true,
      "include_colab_link": true
    },
    "kernelspec": {
      "name": "python3",
      "display_name": "Python 3"
    },
    "language_info": {
      "name": "python"
    }
  },
  "cells": [
    {
      "cell_type": "markdown",
      "metadata": {
        "id": "view-in-github",
        "colab_type": "text"
      },
      "source": [
        "<a href=\"https://colab.research.google.com/github/MatheusPxt21/AEDS1--TP2/blob/main/Projeto_de_CCF_425_INTRODU%C3%87%C3%83O_%C3%80_CI%C3%8ANCIA_DOS_DADOS.ipynb\" target=\"_parent\"><img src=\"https://colab.research.google.com/assets/colab-badge.svg\" alt=\"Open In Colab\"/></a>"
      ]
    },
    {
      "cell_type": "code",
      "source": [],
      "metadata": {
        "id": "ZsFhGnZzQ7OA"
      },
      "execution_count": null,
      "outputs": []
    },
    {
      "cell_type": "markdown",
      "source": [
        "**Projeto de CCF 425 - INTRODUÇÃO À CIÊNCIA DOS DADOS**"
      ],
      "metadata": {
        "id": "901pkIHK8T9R"
      }
    },
    {
      "cell_type": "markdown",
      "source": [],
      "metadata": {
        "id": "FX_w41DTEDzC"
      }
    },
    {
      "cell_type": "markdown",
      "source": [
        "DataBase - BrStats"
      ],
      "metadata": {
        "id": "8bSobIYX4dwG"
      }
    },
    {
      "cell_type": "code",
      "execution_count": 7,
      "metadata": {
        "id": "d0PgP2r78TI8"
      },
      "outputs": [],
      "source": [
        "import pandas as pd\n",
        "import numpy as np"
      ]
    },
    {
      "cell_type": "code",
      "source": [
        "df = pd.read_csv('BrStats.csv', sep=\";\", low_memory=False)\n",
        "print(df.dtypes)\n",
        "print(f\"BrStats: {df.shape[0]} linhas, {df.shape[1]} colunas\")"
      ],
      "metadata": {
        "id": "sggJB18G8lQN",
        "colab": {
          "base_uri": "https://localhost:8080/"
        },
        "collapsed": true,
        "outputId": "3aed0647-e9df-4681-f7ef-b36059fed29b"
      },
      "execution_count": 13,
      "outputs": [
        {
          "output_type": "stream",
          "name": "stdout",
          "text": [
            "Ano                              int64\n",
            "CDMunicipio                      int64\n",
            "Populacao                       object\n",
            "PessoalOcupado                  object\n",
            "PessoalAssalariado              object\n",
            "VrSalarios                      object\n",
            "PIB                             object\n",
            "QtEmpresas                     float64\n",
            "AreaPlantada_h                 float64\n",
            "AreaColhida_h                  float64\n",
            "VlProducaoAgricola             float64\n",
            "VlProducaoPecuaria             float64\n",
            "Area                            object\n",
            "Importacoes_US$                 object\n",
            "Exportacoes_US$                 object\n",
            "Receitas_R$                     object\n",
            "Transferencias_correntes_R$     object\n",
            "Transferencias_capital_R$       object\n",
            "NrNascimentos                  float64\n",
            "NrObitosInfantis               float64\n",
            "povoamento                      object\n",
            "UF                              object\n",
            "Municipio                       object\n",
            "Regiao                          object\n",
            "dtype: object\n",
            "BrStats: 33420 linhas, 24 colunas\n"
          ]
        }
      ]
    },
    {
      "cell_type": "markdown",
      "source": [
        "# Descrição - Dataset - BrStats\n",
        "\n",
        "**Ano** (int64): Indica o ano de referência dos dados,armazenado como inteiro.\n",
        "\n",
        "\n",
        "**CDMunicipio** (int64): Código do município conforme a base de dados oficial,armazenado como intero.\n",
        "\n",
        "\n",
        "**Populacao** (object): Número total de habitantes do município. Apesar de representar um valor numérico, está armazenado como texto.\n",
        "\n",
        "\n",
        "**PessoalOcupado** (object): Número total de pessoas empregadas no município, incluindo empregos formais e informais. Armazenado como texto.\n",
        "\n",
        "\n",
        "**PessoalAssalariado** (object): Número total de pessoas empregadas formalmente, com vínculo empregatício e recebendo salário. Armazenado\n",
        "como texto.\n",
        "\n",
        "**VrSalarios** (object): Valor total da massa salarial paga no município. Armazenado como texto.\n",
        "\n",
        "**PIB**(object): Produto Interno Bruto do município, representando a soma de todos os bens e serviços produzidos no período. Armazenado como texto.\n",
        "\n",
        "**QtEmpresas** (float64): Quantidade total de empresas registradas no município,registrado como flutuante.\n",
        "\n",
        "**AreaPlantada_h** (float64): Área total plantada na agricultura, armazenado como flutuante.\n",
        "\n",
        "**AreaColhida_h** (float64): Área total colhida na agricultura, armazwnado como flutuante.\n",
        "\n",
        "**VlProducaoAgricola** (float64): Valor total da produção agrícola do município,armazenado como flutuante.\n",
        "\n",
        "**VlProducaoPecuaria** (float64): Valor total da produção pecuária do município,armazenado como flutuante.\n",
        "\n",
        "**Area (object)**: Área total do município. Está armazenada como texto.\n",
        "\n",
        "**Importacoes_US$** (object): Valor total das importações do município em dólares americanos. Armazenado como texto.\n",
        "\n",
        "**Exportacoes_US$ (object)**: Valor total das exportações do município em dólares americanos. Armazenado como texto.\n",
        "\n",
        "**Receitas_R$** (object): Receita total do município em reais. Armazenado como texto.\n",
        "\n",
        "**Transferencias_correntes_R$** (object): Valor recebido pelo município por meio de transferências correntes. Armazenado como texto.\n",
        "\n",
        "**Transferencias_capital_R$** (object): Valor recebido pelo município por meio de transferências de capital.Armazenado como texto.\n",
        "\n",
        "**NrNascimentos** (float64): Número total de nascimentos registrados no município,registrado como flutuante.\n",
        "\n",
        "**NrObitosInfantis** (float64): Número total de óbitos infantis registrados no município,registrado como flutuante.\n",
        "\n",
        "**povoamento** (object): ? Armazenado como texto.\n",
        "\n",
        "**UF**(object): Estado a que pertence o município. Armazenado como texto (sigla do estado).\n",
        "\n",
        "**Municipio** (object): Nome do município correspondente aos dados. Armazenado como texto.\n",
        "\n",
        "**Regiao** (object): Região geográfica do município . Armazenado como texto.\n",
        "\n"
      ],
      "metadata": {
        "id": "NqOvojwtPYI7"
      }
    },
    {
      "cell_type": "markdown",
      "source": [
        "DataBase - casos_2020"
      ],
      "metadata": {
        "id": "6xNfj-cT4iN2"
      }
    },
    {
      "cell_type": "code",
      "source": [
        "df_2020 = pd.read_csv('casos_2020.csv', low_memory=False)\n",
        "print(df_2020.dtypes)\n",
        "print(f\"Casos 2020: {df_2020.shape[0]} linhas, {df_2020.shape[1]} colunas\")"
      ],
      "metadata": {
        "colab": {
          "base_uri": "https://localhost:8080/"
        },
        "id": "NYVIiweZ4u4-",
        "outputId": "c054c6ef-1fe9-4996-cfce-c7b031ef9bb3"
      },
      "execution_count": 14,
      "outputs": [
        {
          "output_type": "stream",
          "name": "stdout",
          "text": [
            "epi_week                             int64\n",
            "date                                object\n",
            "state                               object\n",
            "city                                object\n",
            "ibgeID                               int64\n",
            "newDeaths                            int64\n",
            "deaths                               int64\n",
            "newCases                             int64\n",
            "totalCases                           int64\n",
            "deaths_per_100k_inhabitants        float64\n",
            "totalCases_per_100k_inhabitants    float64\n",
            "deaths_by_totalCases               float64\n",
            "dtype: object\n",
            "Casos 2020: 1314380 linhas, 12 colunas\n"
          ]
        }
      ]
    },
    {
      "cell_type": "markdown",
      "source": [
        "DataBase - casos_2021"
      ],
      "metadata": {
        "id": "dmdbX00D4mKq"
      }
    },
    {
      "cell_type": "code",
      "source": [
        "df_2021 = pd.read_csv('casos_2021.csv', low_memory=False)\n",
        "print(df_2021.dtypes)\n",
        "print(f\"Casos 2021: {df_2021.shape[0]} linhas, {df_2021.shape[1]} colunas\")"
      ],
      "metadata": {
        "id": "p13VX7BG460u"
      },
      "execution_count": null,
      "outputs": []
    },
    {
      "cell_type": "markdown",
      "source": [
        "DataBase - casos_2022"
      ],
      "metadata": {
        "id": "7gJb-vF64mqu"
      }
    },
    {
      "cell_type": "code",
      "source": [
        "df_2022 = pd.read_csv('casos_2022.csv', low_memory=False)\n",
        "print(df_2022.dtypes)\n",
        "print(f\"Casos 2022: {df_2022.shape[0]} linhas, {df_2022.shape[1]} colunas\")"
      ],
      "metadata": {
        "id": "vJq-0BhK5AIO"
      },
      "execution_count": null,
      "outputs": []
    },
    {
      "cell_type": "markdown",
      "source": [
        "DataBase - casos_2023"
      ],
      "metadata": {
        "id": "BJxSgGEo4nF2"
      }
    },
    {
      "cell_type": "code",
      "source": [
        "df_2023 = pd.read_csv('casos_2023.csv', low_memory=False)\n",
        "print(df_2023.dtypes)\n",
        "print(f\"Casos 2023: {df_2023.shape[0]} linhas, {df_2023.shape[1]} colunas\")"
      ],
      "metadata": {
        "id": "2elMBCcy5Dyv"
      },
      "execution_count": null,
      "outputs": []
    },
    {
      "cell_type": "markdown",
      "source": [
        "Descrição das colunas dos Datasets de Casos"
      ],
      "metadata": {
        "id": "2DYoDKMl9kt3"
      }
    },
    {
      "cell_type": "markdown",
      "source": [
        "- date: Data do registro, no formato YYYY-MM-DD.\n",
        "- country: País dos dados, que é sempre \"Brazil\".\n",
        "- state: Sigla da unidade federativa (UF) ou \"TOTAL\" quando se refere ao país inteiro.\n",
        "- city: Nome completo do município no formato \"Cidade/UF\". Pode ser \"CASO SEM LOCALIZACAO DEFINIDA/UF\", indicando casos na unidade federativa sem município definido.\n",
        "- ibgeID: ID único do município fornecido pelo Instituto Brasileiro de Geografia e Estatística (IBGE).\n",
        "- newDeaths: Diferença entre o número de óbitos da data correspondente e o dia anterior.\n",
        "- deaths: Número acumulado de óbitos até aquela data.\n",
        "- newCases: Diferença entre o número de casos da data correspondente e o dia anterior.\n",
        "- totalCases: Número acumulado de casos até aquela data.\n",
        "- deaths_per_100k_inhabitants: Número de óbitos por 100.000 habitantes naquela localidade.\n",
        "- totalCases_per_100k_inhabitants: Número de casos por 100.000 habitantes naquela localidade.\n",
        "- deaths_by_totalCases: Proporção entre o número de óbitos e o número total de casos."
      ],
      "metadata": {
        "id": "OztdRvbJ9ocS"
      }
    },
    {
      "cell_type": "markdown",
      "source": [
        "**Verificação da existência de valores nulos**"
      ],
      "metadata": {
        "id": "FUfCmpPeSxyG"
      }
    },
    {
      "cell_type": "code",
      "source": [
        "print('BrStats:\\n', df.isnull().sum())\n",
        "print('Casos 2020:\\n', df_2020.isnull().sum())\n",
        "print('Casos 2021:\\n', df_2021.isnull().sum())\n",
        "print('Casos 2022:\\n', df_2022.isnull().sum())\n",
        "print('Casos 2023:\\n', df_2023.isnull().sum())"
      ],
      "metadata": {
        "colab": {
          "base_uri": "https://localhost:8080/"
        },
        "id": "xB1Dy9gIS3Dy",
        "outputId": "810bb497-c1ce-4192-d4ca-6606bfd262a5"
      },
      "execution_count": 21,
      "outputs": [
        {
          "output_type": "stream",
          "name": "stdout",
          "text": [
            "BrStats:\n",
            " Ano                                0\n",
            "CDMunicipio                        0\n",
            "Populacao                         30\n",
            "PessoalOcupado                    30\n",
            "PessoalAssalariado                30\n",
            "VrSalarios                        30\n",
            "PIB                             5595\n",
            "QtEmpresas                        30\n",
            "AreaPlantada_h                    72\n",
            "AreaColhida_h                     72\n",
            "VlProducaoAgricola                72\n",
            "VlProducaoPecuaria                36\n",
            "Area                              30\n",
            "Importacoes_US$                20375\n",
            "Exportacoes_US$                21392\n",
            "Receitas_R$                    11173\n",
            "Transferencias_correntes_R$      243\n",
            "Transferencias_capital_R$        243\n",
            "NrNascimentos                      0\n",
            "NrObitosInfantis                   0\n",
            "povoamento                        30\n",
            "UF                                 0\n",
            "Municipio                          0\n",
            "Regiao                             0\n",
            "dtype: int64\n",
            "Casos 2020:\n",
            " epi_week                           0\n",
            "date                               0\n",
            "state                              0\n",
            "city                               0\n",
            "ibgeID                             0\n",
            "newDeaths                          0\n",
            "deaths                             0\n",
            "newCases                           0\n",
            "totalCases                         0\n",
            "deaths_per_100k_inhabitants        0\n",
            "totalCases_per_100k_inhabitants    0\n",
            "deaths_by_totalCases               0\n",
            "dtype: int64\n",
            "Casos 2021:\n",
            " epi_week                           0\n",
            "date                               0\n",
            "state                              0\n",
            "city                               0\n",
            "ibgeID                             0\n",
            "newDeaths                          0\n",
            "deaths                             0\n",
            "newCases                           0\n",
            "totalCases                         0\n",
            "deaths_per_100k_inhabitants        0\n",
            "totalCases_per_100k_inhabitants    0\n",
            "deaths_by_totalCases               0\n",
            "dtype: int64\n",
            "Casos 2022:\n",
            " epi_week                           0\n",
            "date                               0\n",
            "state                              0\n",
            "city                               0\n",
            "ibgeID                             0\n",
            "newDeaths                          0\n",
            "deaths                             0\n",
            "newCases                           0\n",
            "totalCases                         0\n",
            "deaths_per_100k_inhabitants        0\n",
            "totalCases_per_100k_inhabitants    0\n",
            "deaths_by_totalCases               0\n",
            "dtype: int64\n",
            "Casos 2023:\n",
            " epi_week                           0\n",
            "date                               0\n",
            "state                              0\n",
            "city                               0\n",
            "ibgeID                             0\n",
            "newDeaths                          0\n",
            "deaths                             0\n",
            "newCases                           0\n",
            "totalCases                         0\n",
            "deaths_per_100k_inhabitants        0\n",
            "totalCases_per_100k_inhabitants    0\n",
            "deaths_by_totalCases               0\n",
            "dtype: int64\n"
          ]
        }
      ]
    },
    {
      "cell_type": "markdown",
      "source": [
        "**Separando em um novo dataset apenas os maiores valores por cidade**"
      ],
      "metadata": {
        "id": "h3Nh2P1TFHWX"
      }
    },
    {
      "cell_type": "code",
      "source": [
        "colunas_interesse = ['city', 'state', 'ibgeID', 'deaths', 'totalCases', 'deaths_by_totalCases']\n",
        "\n",
        "df_2020 = df_2020[df_2020['city'].notna()]\n",
        "df_2021 = df_2021[df_2021['city'].notna()]\n",
        "df_2022 = df_2022[df_2022['city'].notna()]\n",
        "df_2023 = df_2023[df_2023['city'].notna()]\n",
        "\n",
        "df_2020_max = df_2020.groupby('city')[['deaths', 'totalCases', 'deaths_by_totalCases']].max().reset_index()\n",
        "df_2021_max = df_2021.groupby('city')[['deaths', 'totalCases', 'deaths_by_totalCases']].max().reset_index()\n",
        "df_2022_max = df_2022.groupby('city')[['deaths', 'totalCases', 'deaths_by_totalCases']].max().reset_index()\n",
        "df_2023_max = df_2023.groupby('city')[['deaths', 'totalCases', 'deaths_by_totalCases']].max().reset_index()\n",
        "\n",
        "df_2020_max.to_csv('df_2020_max.csv', index=False)\n",
        "df_2021_max.to_csv('df_2021_max.csv', index=False)\n",
        "df_2022_max.to_csv('df_2022_max.csv', index=False)\n",
        "df_2023_max.to_csv('df_2023_max.csv', index=False)"
      ],
      "metadata": {
        "id": "DjOVQeEAFOGj"
      },
      "execution_count": 18,
      "outputs": []
    },
    {
      "cell_type": "markdown",
      "source": [
        "VrSalarios por Regiao do Brasil"
      ],
      "metadata": {
        "id": "Oip726JKGHXJ"
      }
    },
    {
      "cell_type": "code",
      "source": [
        "coluna_salarios = 'VrSalarios'\n",
        "coluna_populacao = 'Populacao'\n",
        "\n",
        "df[coluna_salarios] = pd.to_numeric(df[coluna_salarios], errors='coerce')\n",
        "df[coluna_populacao] = pd.to_numeric(df[coluna_populacao], errors='coerce')\n",
        "\n",
        "df['MediaSalarialCidade'] = df[coluna_salarios] / df[coluna_populacao]\n",
        "\n",
        "media_salarial_por_regiao = df.groupby('Regiao')['MediaSalarialCidade'].mean()\n",
        "\n",
        "# Exibir os resultados\n",
        "print(media_salarial_por_regiao)\n"
      ],
      "metadata": {
        "colab": {
          "base_uri": "https://localhost:8080/"
        },
        "id": "PLSZRZxYG7fO",
        "outputId": "3276f994-dcc9-4fbf-f726-19c54f7ac936"
      },
      "execution_count": null,
      "outputs": [
        {
          "output_type": "stream",
          "name": "stdout",
          "text": [
            "Regiao\n",
            "Centro-Oeste    3.368202\n",
            "Nordeste        1.651562\n",
            "Norte           1.871603\n",
            "Sudeste         3.590985\n",
            "Sul             4.628571\n",
            "Name: MediaSalarialCidade, dtype: float64\n"
          ]
        }
      ]
    },
    {
      "cell_type": "code",
      "source": [
        "# Encontrar a cidade com o menor VrSalarios\n",
        "cidade_menor_salario = df.loc[df['VrSalarios'].idxmin(), ['Municipio', 'VrSalarios', 'Regiao', 'UF', 'Populacao', 'povoamento', 'PessoalAssalariado']]\n",
        "\n",
        "# Exibir o resultado\n",
        "print(cidade_menor_salario)"
      ],
      "metadata": {
        "colab": {
          "base_uri": "https://localhost:8080/"
        },
        "id": "SPP5mOXhHxl4",
        "outputId": "78ff7a9a-ce7c-48a2-8162-6460491563c7"
      },
      "execution_count": null,
      "outputs": [
        {
          "output_type": "stream",
          "name": "stdout",
          "text": [
            "Municipio             Vera Mendes\n",
            "VrSalarios                  1.035\n",
            "Regiao                   Nordeste\n",
            "UF                             PI\n",
            "Populacao                   3.075\n",
            "povoamento                  8,991\n",
            "PessoalAssalariado             76\n",
            "Name: 19957, dtype: object\n"
          ]
        }
      ]
    },
    {
      "cell_type": "code",
      "source": [
        "# Encontrar"
      ],
      "metadata": {
        "id": "hZb6NKEDIeRZ"
      },
      "execution_count": null,
      "outputs": []
    },
    {
      "cell_type": "code",
      "source": [
        "#Existe relação entre o número de nascimentos/mortes com o PIB da região?\n",
        "\n",
        "for col in ['NrNascimentos', 'NrObitosInfantis', 'PIB']:\n",
        "    df[col] = pd.to_numeric(df[col], errors='coerce')\n",
        "\n",
        "correlacao = df.groupby('Regiao')[['NrNascimentos', 'NrObitosInfantis', 'PIB']].sum().corr()\n",
        "print(correlacao)"
      ],
      "metadata": {
        "colab": {
          "base_uri": "https://localhost:8080/"
        },
        "id": "R4LW9G1_LR74",
        "outputId": "6f500cfb-0a5e-41c6-9d78-a2d7184df47a"
      },
      "execution_count": null,
      "outputs": [
        {
          "output_type": "stream",
          "name": "stdout",
          "text": [
            "                  NrNascimentos  NrObitosInfantis       PIB\n",
            "NrNascimentos          1.000000          0.920779  0.859121\n",
            "NrObitosInfantis       0.920779          1.000000  0.775176\n",
            "PIB                    0.859121          0.775176  1.000000\n"
          ]
        }
      ]
    },
    {
      "cell_type": "code",
      "source": [
        "#Relação entre a área de cultivo com a área povoada\n",
        "\n",
        "for col in ['povoamento', 'AreaPlantada_h', 'AreaColhida_h']:\n",
        "    # Check if the column is of type object (which usually indicates strings) before using .str\n",
        "    if df[col].dtype == object:\n",
        "        df[col] = pd.to_numeric(df[col].str.replace(',', '.', regex=False), errors='coerce')\n",
        "    else:\n",
        "        # If not an object type, try converting directly to numeric\n",
        "        df[col] = pd.to_numeric(df[col], errors='coerce')\n",
        "\n",
        "correlacao = df[['povoamento', 'AreaPlantada_h', 'AreaColhida_h']].corr()\n",
        "print(correlacao)"
      ],
      "metadata": {
        "colab": {
          "base_uri": "https://localhost:8080/"
        },
        "id": "t4ek_Q0mLyL9",
        "outputId": "40462855-454d-4a99-e4cf-95cd36654aae"
      },
      "execution_count": null,
      "outputs": [
        {
          "output_type": "stream",
          "name": "stdout",
          "text": [
            "                povoamento  AreaPlantada_h  AreaColhida_h\n",
            "povoamento        1.000000       -0.054051      -0.053670\n",
            "AreaPlantada_h   -0.054051        1.000000       0.940183\n",
            "AreaColhida_h    -0.053670        0.940183       1.000000\n"
          ]
        }
      ]
    },
    {
      "cell_type": "code",
      "source": [
        "#Média populacional das cidades do grupo comparadas com a capital\n",
        "\n",
        "cidades_grupo = ['Caratinga', 'Pará de Minas', 'Itaúna', 'Ubá']\n",
        "df_cidades = df[df['Municipio'].isin(cidades_grupo)]\n",
        "\n",
        "df_cidades['Populacao'] = pd.to_numeric(df_cidades['Populacao'].str.replace('.', '', regex=False).str.replace(',', '.', regex=False), errors='coerce')\n",
        "\n",
        "media_grupo = df_cidades['Populacao'].mean()\n",
        "\n",
        "capital = df[df['Municipio'] == 'Belo Horizonte']\n",
        "populacao_capital = capital['Populacao'].values[0]\n",
        "\n",
        "print(f\"Média populacional do grupo: {media_grupo}\")\n",
        "print(f\"População da capital: {populacao_capital}\")"
      ],
      "metadata": {
        "colab": {
          "base_uri": "https://localhost:8080/",
          "height": 356
        },
        "id": "0lu2HAtbME7O",
        "outputId": "8b81e16f-eccd-47fa-b502-c995446b704c"
      },
      "execution_count": null,
      "outputs": [
        {
          "output_type": "error",
          "ename": "AttributeError",
          "evalue": "Can only use .str accessor with string values!",
          "traceback": [
            "\u001b[0;31m---------------------------------------------------------------------------\u001b[0m",
            "\u001b[0;31mAttributeError\u001b[0m                            Traceback (most recent call last)",
            "\u001b[0;32m<ipython-input-50-9f191a3b028d>\u001b[0m in \u001b[0;36m<cell line: 0>\u001b[0;34m()\u001b[0m\n\u001b[1;32m      4\u001b[0m \u001b[0mdf_cidades\u001b[0m \u001b[0;34m=\u001b[0m \u001b[0mdf\u001b[0m\u001b[0;34m[\u001b[0m\u001b[0mdf\u001b[0m\u001b[0;34m[\u001b[0m\u001b[0;34m'Municipio'\u001b[0m\u001b[0;34m]\u001b[0m\u001b[0;34m.\u001b[0m\u001b[0misin\u001b[0m\u001b[0;34m(\u001b[0m\u001b[0mcidades_grupo\u001b[0m\u001b[0;34m)\u001b[0m\u001b[0;34m]\u001b[0m\u001b[0;34m\u001b[0m\u001b[0;34m\u001b[0m\u001b[0m\n\u001b[1;32m      5\u001b[0m \u001b[0;34m\u001b[0m\u001b[0m\n\u001b[0;32m----> 6\u001b[0;31m \u001b[0mdf_cidades\u001b[0m\u001b[0;34m[\u001b[0m\u001b[0;34m'Populacao'\u001b[0m\u001b[0;34m]\u001b[0m \u001b[0;34m=\u001b[0m \u001b[0mpd\u001b[0m\u001b[0;34m.\u001b[0m\u001b[0mto_numeric\u001b[0m\u001b[0;34m(\u001b[0m\u001b[0mdf_cidades\u001b[0m\u001b[0;34m[\u001b[0m\u001b[0;34m'Populacao'\u001b[0m\u001b[0;34m]\u001b[0m\u001b[0;34m.\u001b[0m\u001b[0mstr\u001b[0m\u001b[0;34m.\u001b[0m\u001b[0mreplace\u001b[0m\u001b[0;34m(\u001b[0m\u001b[0;34m'.'\u001b[0m\u001b[0;34m,\u001b[0m \u001b[0;34m''\u001b[0m\u001b[0;34m,\u001b[0m \u001b[0mregex\u001b[0m\u001b[0;34m=\u001b[0m\u001b[0;32mFalse\u001b[0m\u001b[0;34m)\u001b[0m\u001b[0;34m.\u001b[0m\u001b[0mstr\u001b[0m\u001b[0;34m.\u001b[0m\u001b[0mreplace\u001b[0m\u001b[0;34m(\u001b[0m\u001b[0;34m','\u001b[0m\u001b[0;34m,\u001b[0m \u001b[0;34m'.'\u001b[0m\u001b[0;34m,\u001b[0m \u001b[0mregex\u001b[0m\u001b[0;34m=\u001b[0m\u001b[0;32mFalse\u001b[0m\u001b[0;34m)\u001b[0m\u001b[0;34m,\u001b[0m \u001b[0merrors\u001b[0m\u001b[0;34m=\u001b[0m\u001b[0;34m'coerce'\u001b[0m\u001b[0;34m)\u001b[0m\u001b[0;34m\u001b[0m\u001b[0;34m\u001b[0m\u001b[0m\n\u001b[0m\u001b[1;32m      7\u001b[0m \u001b[0;34m\u001b[0m\u001b[0m\n\u001b[1;32m      8\u001b[0m \u001b[0mmedia_grupo\u001b[0m \u001b[0;34m=\u001b[0m \u001b[0mdf_cidades\u001b[0m\u001b[0;34m[\u001b[0m\u001b[0;34m'Populacao'\u001b[0m\u001b[0;34m]\u001b[0m\u001b[0;34m.\u001b[0m\u001b[0mmean\u001b[0m\u001b[0;34m(\u001b[0m\u001b[0;34m)\u001b[0m\u001b[0;34m\u001b[0m\u001b[0;34m\u001b[0m\u001b[0m\n",
            "\u001b[0;32m/usr/local/lib/python3.11/dist-packages/pandas/core/generic.py\u001b[0m in \u001b[0;36m__getattr__\u001b[0;34m(self, name)\u001b[0m\n\u001b[1;32m   6297\u001b[0m         ):\n\u001b[1;32m   6298\u001b[0m             \u001b[0;32mreturn\u001b[0m \u001b[0mself\u001b[0m\u001b[0;34m[\u001b[0m\u001b[0mname\u001b[0m\u001b[0;34m]\u001b[0m\u001b[0;34m\u001b[0m\u001b[0;34m\u001b[0m\u001b[0m\n\u001b[0;32m-> 6299\u001b[0;31m         \u001b[0;32mreturn\u001b[0m \u001b[0mobject\u001b[0m\u001b[0;34m.\u001b[0m\u001b[0m__getattribute__\u001b[0m\u001b[0;34m(\u001b[0m\u001b[0mself\u001b[0m\u001b[0;34m,\u001b[0m \u001b[0mname\u001b[0m\u001b[0;34m)\u001b[0m\u001b[0;34m\u001b[0m\u001b[0;34m\u001b[0m\u001b[0m\n\u001b[0m\u001b[1;32m   6300\u001b[0m \u001b[0;34m\u001b[0m\u001b[0m\n\u001b[1;32m   6301\u001b[0m     \u001b[0;34m@\u001b[0m\u001b[0mfinal\u001b[0m\u001b[0;34m\u001b[0m\u001b[0;34m\u001b[0m\u001b[0m\n",
            "\u001b[0;32m/usr/local/lib/python3.11/dist-packages/pandas/core/accessor.py\u001b[0m in \u001b[0;36m__get__\u001b[0;34m(self, obj, cls)\u001b[0m\n\u001b[1;32m    222\u001b[0m             \u001b[0;31m# we're accessing the attribute of the class, i.e., Dataset.geo\u001b[0m\u001b[0;34m\u001b[0m\u001b[0;34m\u001b[0m\u001b[0m\n\u001b[1;32m    223\u001b[0m             \u001b[0;32mreturn\u001b[0m \u001b[0mself\u001b[0m\u001b[0;34m.\u001b[0m\u001b[0m_accessor\u001b[0m\u001b[0;34m\u001b[0m\u001b[0;34m\u001b[0m\u001b[0m\n\u001b[0;32m--> 224\u001b[0;31m         \u001b[0maccessor_obj\u001b[0m \u001b[0;34m=\u001b[0m \u001b[0mself\u001b[0m\u001b[0;34m.\u001b[0m\u001b[0m_accessor\u001b[0m\u001b[0;34m(\u001b[0m\u001b[0mobj\u001b[0m\u001b[0;34m)\u001b[0m\u001b[0;34m\u001b[0m\u001b[0;34m\u001b[0m\u001b[0m\n\u001b[0m\u001b[1;32m    225\u001b[0m         \u001b[0;31m# Replace the property with the accessor object. Inspired by:\u001b[0m\u001b[0;34m\u001b[0m\u001b[0;34m\u001b[0m\u001b[0m\n\u001b[1;32m    226\u001b[0m         \u001b[0;31m# https://www.pydanny.com/cached-property.html\u001b[0m\u001b[0;34m\u001b[0m\u001b[0;34m\u001b[0m\u001b[0m\n",
            "\u001b[0;32m/usr/local/lib/python3.11/dist-packages/pandas/core/strings/accessor.py\u001b[0m in \u001b[0;36m__init__\u001b[0;34m(self, data)\u001b[0m\n\u001b[1;32m    189\u001b[0m         \u001b[0;32mfrom\u001b[0m \u001b[0mpandas\u001b[0m\u001b[0;34m.\u001b[0m\u001b[0mcore\u001b[0m\u001b[0;34m.\u001b[0m\u001b[0marrays\u001b[0m\u001b[0;34m.\u001b[0m\u001b[0mstring_\u001b[0m \u001b[0;32mimport\u001b[0m \u001b[0mStringDtype\u001b[0m\u001b[0;34m\u001b[0m\u001b[0;34m\u001b[0m\u001b[0m\n\u001b[1;32m    190\u001b[0m \u001b[0;34m\u001b[0m\u001b[0m\n\u001b[0;32m--> 191\u001b[0;31m         \u001b[0mself\u001b[0m\u001b[0;34m.\u001b[0m\u001b[0m_inferred_dtype\u001b[0m \u001b[0;34m=\u001b[0m \u001b[0mself\u001b[0m\u001b[0;34m.\u001b[0m\u001b[0m_validate\u001b[0m\u001b[0;34m(\u001b[0m\u001b[0mdata\u001b[0m\u001b[0;34m)\u001b[0m\u001b[0;34m\u001b[0m\u001b[0;34m\u001b[0m\u001b[0m\n\u001b[0m\u001b[1;32m    192\u001b[0m         \u001b[0mself\u001b[0m\u001b[0;34m.\u001b[0m\u001b[0m_is_categorical\u001b[0m \u001b[0;34m=\u001b[0m \u001b[0misinstance\u001b[0m\u001b[0;34m(\u001b[0m\u001b[0mdata\u001b[0m\u001b[0;34m.\u001b[0m\u001b[0mdtype\u001b[0m\u001b[0;34m,\u001b[0m \u001b[0mCategoricalDtype\u001b[0m\u001b[0;34m)\u001b[0m\u001b[0;34m\u001b[0m\u001b[0;34m\u001b[0m\u001b[0m\n\u001b[1;32m    193\u001b[0m         \u001b[0mself\u001b[0m\u001b[0;34m.\u001b[0m\u001b[0m_is_string\u001b[0m \u001b[0;34m=\u001b[0m \u001b[0misinstance\u001b[0m\u001b[0;34m(\u001b[0m\u001b[0mdata\u001b[0m\u001b[0;34m.\u001b[0m\u001b[0mdtype\u001b[0m\u001b[0;34m,\u001b[0m \u001b[0mStringDtype\u001b[0m\u001b[0;34m)\u001b[0m\u001b[0;34m\u001b[0m\u001b[0;34m\u001b[0m\u001b[0m\n",
            "\u001b[0;32m/usr/local/lib/python3.11/dist-packages/pandas/core/strings/accessor.py\u001b[0m in \u001b[0;36m_validate\u001b[0;34m(data)\u001b[0m\n\u001b[1;32m    243\u001b[0m \u001b[0;34m\u001b[0m\u001b[0m\n\u001b[1;32m    244\u001b[0m         \u001b[0;32mif\u001b[0m \u001b[0minferred_dtype\u001b[0m \u001b[0;32mnot\u001b[0m \u001b[0;32min\u001b[0m \u001b[0mallowed_types\u001b[0m\u001b[0;34m:\u001b[0m\u001b[0;34m\u001b[0m\u001b[0;34m\u001b[0m\u001b[0m\n\u001b[0;32m--> 245\u001b[0;31m             \u001b[0;32mraise\u001b[0m \u001b[0mAttributeError\u001b[0m\u001b[0;34m(\u001b[0m\u001b[0;34m\"Can only use .str accessor with string values!\"\u001b[0m\u001b[0;34m)\u001b[0m\u001b[0;34m\u001b[0m\u001b[0;34m\u001b[0m\u001b[0m\n\u001b[0m\u001b[1;32m    246\u001b[0m         \u001b[0;32mreturn\u001b[0m \u001b[0minferred_dtype\u001b[0m\u001b[0;34m\u001b[0m\u001b[0;34m\u001b[0m\u001b[0m\n\u001b[1;32m    247\u001b[0m \u001b[0;34m\u001b[0m\u001b[0m\n",
            "\u001b[0;31mAttributeError\u001b[0m: Can only use .str accessor with string values!"
          ]
        }
      ]
    },
    {
      "cell_type": "code",
      "source": [
        "#Comparação entre as regiões com mais empresas X áreas plantadas -> PIB\n",
        "\n",
        "df['Razao_Empresas_AreaPlantada'] = df['QtEmpresas'] / df['AreaPlantada_h']\n",
        "comparacao = df.groupby('Regiao')[['QtEmpresas', 'AreaPlantada_h', 'PIB']].mean()\n",
        "print(comparacao)"
      ],
      "metadata": {
        "colab": {
          "base_uri": "https://localhost:8080/"
        },
        "id": "f97FLCVGMXs2",
        "outputId": "0b069bc8-838a-4345-90b9-96baa046f0a7"
      },
      "execution_count": null,
      "outputs": [
        {
          "output_type": "stream",
          "name": "stdout",
          "text": [
            "              QtEmpresas  AreaPlantada_h         PIB\n",
            "Regiao                                              \n",
            "Centro-Oeste  207.485575      102.244417  296.049921\n",
            "Nordeste      151.965094       11.761334  184.400428\n",
            "Norte         137.227086       19.574777  250.746170\n",
            "Sudeste       203.939917       20.556859  232.431510\n",
            "Sul           206.812010       34.304012  260.693577\n"
          ]
        }
      ]
    },
    {
      "cell_type": "code",
      "source": [
        "#Balanço Comercial por município/região\n",
        "\n",
        "df['Exportacoes_US$'] = pd.to_numeric(df['Exportacoes_US$'].str.replace(',', '.', regex=False), errors='coerce')\n",
        "df['Importacoes_US$'] = pd.to_numeric(df['Importacoes_US$'].str.replace(',', '.', regex=False), errors='coerce')\n",
        "\n",
        "df['BalancoComercial'] = df['Exportacoes_US$'] - df['Importacoes_US$']\n",
        "balanco_por_regiao = df.groupby('Regiao')['BalancoComercial'].sum()\n",
        "print(balanco_por_regiao)\n"
      ],
      "metadata": {
        "colab": {
          "base_uri": "https://localhost:8080/"
        },
        "id": "DHme0lYkMkoe",
        "outputId": "757ca3db-efbe-43bd-aedd-7c766edd068d"
      },
      "execution_count": null,
      "outputs": [
        {
          "output_type": "stream",
          "name": "stdout",
          "text": [
            "Regiao\n",
            "Centro-Oeste   -138.0\n",
            "Nordeste       -552.0\n",
            "Norte             0.0\n",
            "Sudeste           0.0\n",
            "Sul               0.0\n",
            "Name: BalancoComercial, dtype: float64\n"
          ]
        }
      ]
    },
    {
      "cell_type": "code",
      "source": [
        "#Número de óbitos infantis antes e durante a pandemia\n",
        "\n",
        "antes_pandemia_obitos = df[df['Ano'] <= 2019]['NrObitosInfantis'].sum()\n",
        "depois_pandemia_obitos = df[df['Ano'] >= 2020]['NrObitosInfantis'].sum()\n",
        "\n",
        "print(f\"Óbitos antes da pandemia: {antes_pandemia_obitos}\")\n",
        "print(f\"Óbitos depois da pandemia: {depois_pandemia_obitos}\")"
      ],
      "metadata": {
        "colab": {
          "base_uri": "https://localhost:8080/"
        },
        "id": "fQA_YIJoMytr",
        "outputId": "e2f6a563-12d4-4989-e8f8-047a408bbee4"
      },
      "execution_count": null,
      "outputs": [
        {
          "output_type": "stream",
          "name": "stdout",
          "text": [
            "Óbitos antes da pandemia: 135178.45799999998\n",
            "Óbitos depois da pandemia: 60334.925\n"
          ]
        }
      ]
    },
    {
      "cell_type": "code",
      "source": [
        "#Número de nascimentos antes e depois da pandemia\n",
        "\n",
        "antes_pandemia = df[df['Ano'] <= 2019]['NrNascimentos'].sum()\n",
        "depois_pandemia = df[df['Ano'] >= 2020]['NrNascimentos'].sum()\n",
        "\n",
        "print(f\"Nascimentos antes da pandemia: {antes_pandemia}\")\n",
        "print(f\"Nascimentos depois da pandemia: {depois_pandemia}\")"
      ],
      "metadata": {
        "colab": {
          "base_uri": "https://localhost:8080/"
        },
        "id": "NDybMRB7M6wl",
        "outputId": "472c8f0c-40a5-4a1f-e26c-e7ddba30193d"
      },
      "execution_count": null,
      "outputs": [
        {
          "output_type": "stream",
          "name": "stdout",
          "text": [
            "Nascimentos antes da pandemia: 4119220.278\n",
            "Nascimentos depois da pandemia: 2028557.8820000002\n"
          ]
        }
      ]
    },
    {
      "cell_type": "code",
      "source": [
        "#Número de empresas que fecharam de 2019 para 2020\n",
        "\n",
        "df_2019 = df[df['Ano'] == 2019]\n",
        "df_2020 = df[df['Ano'] == 2020]\n",
        "\n",
        "empresas_fechadas = df_2019['QtEmpresas'].sum() - df_2020['QtEmpresas'].sum()\n",
        "print(f\"Número de empresas que fecharam: {empresas_fechadas}\")\n"
      ],
      "metadata": {
        "colab": {
          "base_uri": "https://localhost:8080/"
        },
        "id": "OZRBUXvmM_ZL",
        "outputId": "96447f2a-be9f-494c-f630-9a447c9277de"
      },
      "execution_count": null,
      "outputs": [
        {
          "output_type": "stream",
          "name": "stdout",
          "text": [
            "Número de empresas que fecharam: -15602.34600000002\n"
          ]
        }
      ]
    },
    {
      "cell_type": "code",
      "source": [
        "#Quantas pessoas deixaram de ser CLT de 2019 para 2020?\n",
        "\n",
        "df_2019 = df[df['Ano'] == 2019]\n",
        "df_2020 = df[df['Ano'] == 2020]\n",
        "\n",
        "# Convert 'PessoalAssalariado' to numeric, handling errors\n",
        "df_2019['PessoalAssalariado'] = pd.to_numeric(df_2019['PessoalAssalariado'], errors='coerce')\n",
        "df_2020['PessoalAssalariado'] = pd.to_numeric(df_2020['PessoalAssalariado'], errors='coerce')\n",
        "\n",
        "clt_perdidos = df_2019['PessoalAssalariado'].sum() - df_2020['PessoalAssalariado'].sum()\n",
        "print(f\"Pessoas que deixaram de ser CLT: {clt_perdidos}\")"
      ],
      "metadata": {
        "colab": {
          "base_uri": "https://localhost:8080/"
        },
        "id": "pfboCZD7NMiL",
        "outputId": "a094a9d5-6b01-4662-fa57-21c4669d71c3"
      },
      "execution_count": null,
      "outputs": [
        {
          "output_type": "stream",
          "name": "stdout",
          "text": [
            "Pessoas que deixaram de ser CLT: 36150.53900000034\n"
          ]
        },
        {
          "output_type": "stream",
          "name": "stderr",
          "text": [
            "<ipython-input-9-e068ba871f1b>:7: SettingWithCopyWarning: \n",
            "A value is trying to be set on a copy of a slice from a DataFrame.\n",
            "Try using .loc[row_indexer,col_indexer] = value instead\n",
            "\n",
            "See the caveats in the documentation: https://pandas.pydata.org/pandas-docs/stable/user_guide/indexing.html#returning-a-view-versus-a-copy\n",
            "  df_2019['PessoalAssalariado'] = pd.to_numeric(df_2019['PessoalAssalariado'], errors='coerce')\n",
            "<ipython-input-9-e068ba871f1b>:8: SettingWithCopyWarning: \n",
            "A value is trying to be set on a copy of a slice from a DataFrame.\n",
            "Try using .loc[row_indexer,col_indexer] = value instead\n",
            "\n",
            "See the caveats in the documentation: https://pandas.pydata.org/pandas-docs/stable/user_guide/indexing.html#returning-a-view-versus-a-copy\n",
            "  df_2020['PessoalAssalariado'] = pd.to_numeric(df_2020['PessoalAssalariado'], errors='coerce')\n"
          ]
        }
      ]
    },
    {
      "cell_type": "code",
      "source": [
        "#Taxa de Desemprego\n",
        "\n",
        "df['PessoalOcupado'] = pd.to_numeric(df['PessoalOcupado'], errors='coerce')\n",
        "df['Populacao'] = pd.to_numeric(df['Populacao'], errors='coerce')\n",
        "\n",
        "df['TaxaDesemprego'] = (1 - df['PessoalOcupado'] / df['Populacao']) * 100\n",
        "print(df[['Municipio', 'TaxaDesemprego']])"
      ],
      "metadata": {
        "colab": {
          "base_uri": "https://localhost:8080/"
        },
        "id": "1jA-gP5DNwH0",
        "outputId": "6538d702-557e-48d1-875c-5983f2b892ba"
      },
      "execution_count": null,
      "outputs": [
        {
          "output_type": "stream",
          "name": "stdout",
          "text": [
            "                     Municipio  TaxaDesemprego\n",
            "0      Campina do Monte Alegre   -14296.493594\n",
            "1                  Elói Mendes       79.349209\n",
            "2                    Silveiras   -10686.371710\n",
            "3                 Silva Jardim       85.492739\n",
            "4       Pindorama do Tocantins    -4575.782973\n",
            "...                        ...             ...\n",
            "33415            Monteirópolis    -6356.561149\n",
            "33416                    Amapá    -4519.535888\n",
            "33417      Fernando de Noronha       27.801372\n",
            "33418                     Faro    -7509.618105\n",
            "33419        Serra dos Aimorés    -9665.042980\n",
            "\n",
            "[33420 rows x 2 columns]\n"
          ]
        }
      ]
    },
    {
      "cell_type": "code",
      "source": [
        "#Porcentagem de óbitos com nascimentos nas 10 cidades de maior PIB\n",
        "\n",
        "top10_pib = df.nlargest(10, 'PIB')\n",
        "top10_pib['TaxaObitos'] = (top10_pib['NrObitosInfantis'] / top10_pib['NrNascimentos']) * 100\n",
        "print(top10_pib[['Municipio', 'TaxaObitos']])\n"
      ],
      "metadata": {
        "colab": {
          "base_uri": "https://localhost:8080/"
        },
        "id": "FmHlf1EkN5xh",
        "outputId": "930d8d2a-b13e-4cc9-b3fa-d140bdf57722"
      },
      "execution_count": null,
      "outputs": [
        {
          "output_type": "stream",
          "name": "stdout",
          "text": [
            "                 Municipio   TaxaObitos\n",
            "7532            São Marcos     0.000000\n",
            "990                Inhumas     1.109570\n",
            "1702          Rio Negrinho     0.325203\n",
            "29212  Palmeira dos Índios  1180.173092\n",
            "4961        Paraíba do Sul     2.480916\n",
            "5585                Juruti  2016.498625\n",
            "13861    Bom Jesus da Lapa  1382.886776\n",
            "3346       Chapadão do Céu     0.000000\n",
            "13176       Biritiba-Mirim     2.028986\n",
            "15467             Quissamã     0.928793\n"
          ]
        }
      ]
    },
    {
      "cell_type": "code",
      "source": [
        "#Quantidade de indústrias por região\n",
        "\n",
        "industria_por_regiao = df.groupby('Regiao')['QtEmpresas'].sum()\n",
        "print(industria_por_regiao)\n"
      ],
      "metadata": {
        "colab": {
          "base_uri": "https://localhost:8080/"
        },
        "id": "r3MHkeIBOCUF",
        "outputId": "4a156c36-9604-4369-e2f1-8752413d5fdc"
      },
      "execution_count": null,
      "outputs": [
        {
          "output_type": "stream",
          "name": "stdout",
          "text": [
            "Regiao\n",
            "Centro-Oeste     580129.668\n",
            "Nordeste        1635752.272\n",
            "Norte            369689.769\n",
            "Sudeste         2041030.693\n",
            "Sul             1474156.004\n",
            "Name: QtEmpresas, dtype: float64\n"
          ]
        }
      ]
    },
    {
      "cell_type": "code",
      "source": [
        "#Relação entre empresas na cidade/região com PIB\n",
        "\n",
        "correlacao = df[['QtEmpresas', 'PIB']].corr()\n",
        "print(correlacao)\n"
      ],
      "metadata": {
        "colab": {
          "base_uri": "https://localhost:8080/"
        },
        "id": "uaCP3YiLOHq9",
        "outputId": "6dcaa615-fef6-4023-dd5d-3b7fe5dad8dc"
      },
      "execution_count": null,
      "outputs": [
        {
          "output_type": "stream",
          "name": "stdout",
          "text": [
            "            QtEmpresas       PIB\n",
            "QtEmpresas    1.000000  0.672342\n",
            "PIB           0.672342  1.000000\n"
          ]
        }
      ]
    },
    {
      "cell_type": "markdown",
      "source": [
        "1ª Pergunta: Qual foi a cidade com o maior número bruto de óbito infantil no período da pandemia do COVID-19 (2019 a 2021) e qual foi a cidade com a maior razão entre óbito/natalidade infantil nesse mesmo período?\n",
        "\n",
        "2ª Pergunta: Qual a diferença do número total de empresas entre o período pré-pandemia (2016 e 2018) e durante a pandemia (2019 e 2021)? O que podemos concluir com esses dados?\n",
        "\n",
        "3ª Pergunta: Qual a soma total do maior valor de produção agrícola de cada cidade entre os anos de 2016 e 2018 e qual é o valor dessa mesma soma entre os anos de 2019 e 2021 (Período pandêmico)?\n",
        "\n",
        "4ª Pergunta: Durante os anos de 2019, 2020 e 2021 (Período pandêmico), quais cidades tiveram a pior relação entre area plantada e area colhida? Qual a diferença desses valores para os anos de 2016, 2017 e 2018 (Período pré-pandêmico) para essas mesmas cidades?\n",
        "\n",
        "5ª Pergunta: Considerando as 10 cidades com maior produção pecuária entre os anos de 2016 e 2018 (Pré-pandemia), qual a diferença nessa produção para as mesmas cidades no período de 2019 e 2021(Pandemia)?"
      ],
      "metadata": {
        "id": "BfGiObwhOdxg"
      }
    },
    {
      "cell_type": "markdown",
      "source": [
        "6ª Pergunta: Qual foi o impacto da pandemia no PIB dos municípios em 2020?"
      ],
      "metadata": {
        "id": "ZDkh58wsQABy"
      }
    },
    {
      "cell_type": "code",
      "source": [
        "#Para a Pergunta 1\n",
        "df[\"NrObitosInfantis\"] = pd.to_numeric(df[\"NrObitosInfantis\"], errors=\"coerce\")\n",
        "df[\"NrNascimentos\"] = pd.to_numeric(df[\"NrNascimentos\"], errors=\"coerce\")\n",
        "\n",
        "df_2019_2021= df[df[\"Ano\"].between(2019, 2021)]\n",
        "\n",
        "\n",
        "cidade_obitos = df_2019_2021.groupby(\"Municipio\")[\"NrObitosInfantis\"].sum().idxmax()\n",
        "max_obitos = df_2019_2021.groupby(\"Municipio\")[\"NrObitosInfantis\"].sum().max()\n",
        "\n",
        "print(f\"A cidade com o maior número de óbitos infantis foi {cidade_obitos} com {max_obitos} óbitos.\")\n",
        "\n",
        "#df_razao = df_2019_2021.groupby(\"Municipio\").sum()[[\"NrNascimentos\", \"NrObitosInfantis\"]]\n",
        "df_razao = df_2019_2021.groupby(\"Municipio\").sum()[[\"NrObitosInfantis\", \"NrNascimentos\"]]\n",
        "\n",
        "df_razao = df_razao[df_razao[\"NrNascimentos\"] > 0]\n",
        "df_razao[\"Razao_Natalidade_Obito\"] = df_razao[\"NrObitosInfantis\"] / df_razao[\"NrNascimentos\"]\n",
        "\n",
        "cidade_razao = df_razao[\"Razao_Natalidade_Obito\"].idxmax()\n",
        "menor_razao = df_razao[\"Razao_Natalidade_Obito\"].max()\n",
        "\n",
        "print(f\"A cidade com a maior razão entre óbitos/natalidade infantis foi {cidade_razao}, onde para cada criança que nascia, outras {menor_razao:.2f} morriam.\")"
      ],
      "metadata": {
        "id": "o7PVM3AEQvBK",
        "colab": {
          "base_uri": "https://localhost:8080/"
        },
        "outputId": "529612a7-263e-48bf-d392-5a4524b13fbb"
      },
      "execution_count": null,
      "outputs": [
        {
          "output_type": "stream",
          "name": "stdout",
          "text": [
            "A cidade com o maior número de óbitos infantis foi Rio de Janeiro com 1818.0 óbitos.\n",
            "A cidade com a maior razão entre óbitos/natalidade infantis foi São Gabriel da Cachoeira, onde para cada criança que nascia, outras 23.94 morriam.\n"
          ]
        }
      ]
    },
    {
      "cell_type": "code",
      "source": [
        "#Para a Pergunta 2\n",
        "#colunas\n",
        "coluna_empresas = 'QtEmpresas'\n",
        "coluna_ano = 'Ano'\n",
        "\n",
        "df[coluna_empresas] = pd.to_numeric(df[coluna_empresas], errors='coerce')\n",
        "df[coluna_ano] = pd.to_numeric(df[coluna_ano], errors='coerce')\n",
        "\n",
        "total_2016_2018 = df[df[coluna_ano].between(2016, 2018)][coluna_empresas].sum()\n",
        "total_2019_2021 = df[df[coluna_ano].between(2019, 2021)][coluna_empresas].sum()\n",
        "\n",
        "# Calcular a diferença\n",
        "diferenca = total_2019_2021 - total_2016_2018\n",
        "\n",
        "\n",
        "if diferenca > 0:\n",
        "    conclusao = \"Teve aumento no número total de empresas entre 2019 e 2021 em comparação com 2016 a 2018.\"\n",
        "elif diferenca < 0:\n",
        "    conclusao = \"Teve redução no número total de empresas entre 2019 e 2021 em comparação com 2016 a 2018.\"\n",
        "else:\n",
        "    conclusao = \"Nada mudou.\"\n",
        "\n",
        "print(f\"Total de empresas (2016-2018): {total_2016_2018}\")\n",
        "print(f\"Total de empresas (2019-2021): {total_2019_2021}\")\n",
        "print(f\"Diferença no número total de empresas: {abs(diferenca)}\")\n",
        "print(conclusao)"
      ],
      "metadata": {
        "colab": {
          "base_uri": "https://localhost:8080/"
        },
        "id": "YEcF2ciIROwi",
        "outputId": "c73b2fe6-a2bf-4224-c965-fdb1e1d920b9"
      },
      "execution_count": null,
      "outputs": [
        {
          "output_type": "stream",
          "name": "stdout",
          "text": [
            "Total de empresas (2016-2018): 1547097.179\n",
            "Total de empresas (2019-2021): 1564616.991\n",
            "Diferença no número total de empresas: 17519.811999999918\n",
            "Teve aumento no número total de empresas entre 2019 e 2021 em comparação com 2016 a 2018.\n"
          ]
        }
      ]
    },
    {
      "cell_type": "code",
      "source": [
        "#para Pergunta 3\n",
        "producao_agricola = \"VlProducaoAgricola\"\n",
        "\n",
        "df[producao_agricola] = pd.to_numeric(df[producao_agricola], errors='coerce')\n",
        "\n",
        "df_2016_2018 = df[df[\"Ano\"].between(2016, 2018)]\n",
        "df_2019_2021 = df[df[\"Ano\"].between(2019, 2021)]\n",
        "\n",
        "producao_2016_2018 = df_2016_2018[producao_agricola].sum(skipna=True)\n",
        "producao_2019_2021 = df_2019_2021[producao_agricola].sum(skipna=True)\n",
        "\n",
        "print(f\"Produção Agrícola (2016-2018): {producao_2016_2018}\")\n",
        "print(f\"Produção Agrícola (2019-2021): {producao_2019_2021}\")"
      ],
      "metadata": {
        "id": "gLb4-h4hROVS",
        "colab": {
          "base_uri": "https://localhost:8080/"
        },
        "outputId": "68c26d33-07e6-4e94-d736-524e51277641"
      },
      "execution_count": null,
      "outputs": [
        {
          "output_type": "stream",
          "name": "stdout",
          "text": [
            "Produção Agrícola (2016-2018): 1554166.398\n",
            "Produção Agrícola (2019-2021): 1957174.252\n"
          ]
        }
      ]
    },
    {
      "cell_type": "code",
      "source": [
        "#para Pergunta 4\n",
        "\n",
        "coluna_ano = \"Ano\"\n",
        "coluna_municipio = \"Municipio\"\n",
        "coluna_area_plantada = \"AreaPlantada_h\"\n",
        "coluna_area_colhida = \"AreaColhida_h\"\n"
      ],
      "metadata": {
        "colab": {
          "base_uri": "https://localhost:8080/"
        },
        "id": "vbDa5gNFcX8N",
        "outputId": "c920e96f-341a-4b42-cda3-011026fa8993"
      },
      "execution_count": null,
      "outputs": [
        {
          "output_type": "stream",
          "name": "stdout",
          "text": [
            "Cidades com a pior relação entre área plantada e colhida (2019-2021):\n",
            "Municipio\n",
            "Afonso Bezerra    inf\n",
            "Alagoa Grande     inf\n",
            "Alcantil          inf\n",
            "Altinho           inf\n",
            "Amaraji           inf\n",
            "Name: Relacao, dtype: float64\n",
            "\n",
            "Diferença entre os períodos (2019-2021 - 2016-2018):\n",
            "Municipio\n",
            "Afonso Bezerra    inf\n",
            "Alagoa Grande     inf\n",
            "Alcantil          inf\n",
            "Altinho           inf\n",
            "Amaraji           inf\n",
            "Name: Relacao, dtype: float64\n"
          ]
        }
      ]
    },
    {
      "cell_type": "code",
      "source": [
        "#para Pergunta 5\n",
        "\n",
        "producao_pecuaria = \"VlProducaoPecuaria\"\n",
        "\n",
        "df[producao_pecuaria] = pd.to_numeric(df[producao_pecuaria], errors='coerce')\n",
        "\n",
        "df_2016_2018 = df[df[\"Ano\"].between(2016, 2018)]\n",
        "df_2019_2021 = df[df[\"Ano\"].between(2019, 2021)]\n",
        "\n",
        "top_cidades = df_2016_2018.groupby(\"Municipio\")[producao_pecuaria].sum().nlargest(10).index\n",
        "\n",
        "producao_2016_2018 = df_2016_2018[df_2016_2018[\"Municipio\"].isin(top_cidades)].groupby(\"Municipio\")[producao_pecuaria].sum()\n",
        "producao_2019_2021 = df_2019_2021[df_2019_2021[\"Municipio\"].isin(top_cidades)].groupby(\"Municipio\")[producao_pecuaria].sum()\n",
        "\n",
        "diferenca = producao_2019_2021 - producao_2016_2018\n",
        "\n",
        "print(\"Diferença na produção pecuária (2019-2021 - 2016-2018):\")\n",
        "print(diferenca)"
      ],
      "metadata": {
        "colab": {
          "base_uri": "https://localhost:8080/"
        },
        "id": "JKViKpypcYal",
        "outputId": "a8eaa6d5-e1c4-4ed8-ec04-3fe8617a7c7d"
      },
      "execution_count": null,
      "outputs": [
        {
          "output_type": "stream",
          "name": "stdout",
          "text": [
            "Diferença na produção pecuária (2019-2021 - 2016-2018):\n",
            "Municipio\n",
            "Arapoti                 -1000.000\n",
            "Carambeí                  -22.000\n",
            "Cascavel                  153.000\n",
            "Castro                    156.000\n",
            "Francisco Beltrão        -475.000\n",
            "Leopoldo de Bulhões     -1015.000\n",
            "Montes Claros             323.000\n",
            "Pompéu                   -966.000\n",
            "Santa Maria de Jetibá   -1605.604\n",
            "São Bento do Una         -696.000\n",
            "Name: VlProducaoPecuaria, dtype: float64\n"
          ]
        }
      ]
    },
    {
      "cell_type": "code",
      "source": [
        "#para Pergunta 6\n",
        "#Pergunta: Qual foi o impacto da pandemia no PIB dos municípios em 2020?\n",
        "\n",
        "Pib = \"PIB\"\n",
        "\n",
        "df[Pib] = pd.to_numeric(df[Pib], errors='coerce')\n",
        "\n",
        "df_2019 = df[df[\"Ano\"] == 2019]\n",
        "df_2020 = df[df[\"Ano\"] == 2020]\n",
        "\n",
        "df_2019 = df_2019[Pib].sum(skipna=True)\n",
        "df_2020 = df_2020[Pib].sum(skipna=True)\n",
        "\n",
        "print(f\"Somatório PIB 2019: {df_2019}\")\n",
        "print(f\"Somatório PIB 2020: {df_2020}\")"
      ],
      "metadata": {
        "colab": {
          "base_uri": "https://localhost:8080/"
        },
        "id": "S7VJg3CzcYxZ",
        "outputId": "0f8034e8-fcd4-46a3-f5e7-f1c67cec6737"
      },
      "execution_count": null,
      "outputs": [
        {
          "output_type": "stream",
          "name": "stdout",
          "text": [
            "Somatório PIB 2019: 1096748.296\n",
            "Somatório PIB 2020: 1150806.491\n"
          ]
        }
      ]
    },
    {
      "cell_type": "code",
      "source": [
        "#para Pergunta 9\n",
        "#Pergunta: Qual o impacto das receitas municipais na qualidade de vida? Podem ser encontradas relações entre receitas e taxa de mortalidade infantil?\n",
        "\n",
        "df_grouped = df.groupby(['Municipio', 'Ano']).agg({'MediaSalarialCidade': 'mean', 'Taxa_Mortalidade_Infantil': 'mean'}).reset_index()\n",
        "\n",
        "top_10_salarial_menores = df_grouped.groupby('Municipio')['MediaSalarialCidade'].mean().nsmallest(20)\n",
        "\n",
        "top_10_mortalidade_maiores = df_grouped.groupby('Municipio')['Taxa_Mortalidade_Infantil'].mean().nlargest(20)\n",
        "\n",
        "\n",
        "print(\"Os 10 Municípios com Menores Médias Salariais ao Longo dos Anos:\")\n",
        "print(top_10_salarial_menores)\n",
        "\n",
        "print(\"\\nOs 10 Municípios com Maiores Taxas de Mortalidade Infantil ao Longo dos Anos:\")\n",
        "print(top_10_mortalidade_maiores)\n",
        "\n"
      ],
      "metadata": {
        "colab": {
          "base_uri": "https://localhost:8080/"
        },
        "id": "3Zqhe9X8L1zv",
        "outputId": "2c85069d-8987-4948-8ad6-7f58f6ce6d27"
      },
      "execution_count": null,
      "outputs": [
        {
          "output_type": "stream",
          "name": "stdout",
          "text": [
            "Os 10 Municípios com Menores Médias Salariais ao Longo dos Anos:\n",
            "Municipio\n",
            "Araguainha                    0.004568\n",
            "Serra da Saudade              0.004747\n",
            "Borá                          0.031036\n",
            "Ipixuna                       0.214521\n",
            "Bonfim do Piauí               0.333941\n",
            "Itaipava do Grajaú            0.335905\n",
            "Primeira Cruz                 0.352780\n",
            "Bagre                         0.354439\n",
            "Nova Olinda do Maranhão       0.411138\n",
            "Tuntum                        0.437884\n",
            "Girau do Ponciano             0.455922\n",
            "Buriti Bravo                  0.508872\n",
            "Mirinzal                      0.516417\n",
            "Joselândia                    0.531440\n",
            "São João do Soter             0.534773\n",
            "Nossa Senhora dos Remédios    0.553789\n",
            "Centro do Guilherme           0.581403\n",
            "Turilândia                    0.581647\n",
            "Satubinha                     0.585894\n",
            "Bom Lugar                     0.587289\n",
            "Name: MediaSalarialCidade, dtype: float64\n",
            "\n",
            "Os 10 Municípios com Maiores Taxas de Mortalidade Infantil ao Longo dos Anos:\n",
            "Municipio\n",
            "Jacareacanga                1935.734380\n",
            "Uiramutã                    1674.885664\n",
            "Amajari                     1451.275736\n",
            "Santa Rosa do Purus         1077.630876\n",
            "Campinápolis                1074.628097\n",
            "Caracaraí                    956.792826\n",
            "Jutaí                        928.452724\n",
            "Nova Nazaré                  824.366205\n",
            "São Gabriel da Cachoeira     810.169250\n",
            "Bertópolis                   794.074372\n",
            "Barcelos                     767.099392\n",
            "Pacaraima                    728.443327\n",
            "Luciára                      725.295612\n",
            "Eirunepé                     717.688430\n",
            "Feijó                        700.870449\n",
            "Manoel Urbano                698.241313\n",
            "Normandia                    694.202301\n",
            "Fernando Falcão              659.242010\n",
            "Alto Alegre                  648.934617\n",
            "Montadas                     613.735884\n",
            "Name: Taxa_Mortalidade_Infantil, dtype: float64\n"
          ]
        }
      ]
    },
    {
      "cell_type": "code",
      "source": [
        "#Exibir todas as colunas do DataSet\n",
        "\n",
        "for column in df.columns:\n",
        "    print(column)\n"
      ],
      "metadata": {
        "id": "yHQqcjgneaDu",
        "colab": {
          "base_uri": "https://localhost:8080/"
        },
        "outputId": "098e0bb7-f3b9-4b57-8daa-14b954917a78"
      },
      "execution_count": null,
      "outputs": [
        {
          "output_type": "stream",
          "name": "stdout",
          "text": [
            "Ano\n",
            "CDMunicipio\n",
            "Populacao\n",
            "PessoalOcupado\n",
            "PessoalAssalariado\n",
            "VrSalarios\n",
            "PIB\n",
            "QtEmpresas\n",
            "AreaPlantada_h\n",
            "AreaColhida_h\n",
            "VlProducaoAgricola\n",
            "VlProducaoPecuaria\n",
            "Area\n",
            "Importacoes_US$\n",
            "Exportacoes_US$\n",
            "Receitas_R$\n",
            "Transferencias_correntes_R$\n",
            "Transferencias_capital_R$\n",
            "NrNascimentos\n",
            "NrObitosInfantis\n",
            "povoamento\n",
            "UF\n",
            "Municipio\n",
            "Regiao\n",
            "MediaSalarialCidade\n",
            "Taxa_Mortalidade_Infantil\n"
          ]
        }
      ]
    }
  ]
}